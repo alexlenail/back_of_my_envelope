{
 "cells": [
  {
   "cell_type": "markdown",
   "id": "d6561436-2120-41eb-a3d5-529a2515e165",
   "metadata": {},
   "source": [
    "# Equilibrium Binding of Transcription Factors\n",
    "> If you know TF concentrations, binding site affinities, and cooperativities, can you predict probabilities for each configuration?\n",
    "\n",
    "- toc: true\n",
    "- comments: true\n",
    "- hide: false"
   ]
  },
  {
   "cell_type": "code",
   "execution_count": 2,
   "id": "3160e195-ea2d-471d-b088-53289f514d5e",
   "metadata": {},
   "outputs": [],
   "source": [
    "#collapse\n",
    "# imports\n",
    "import string\n",
    "from random import choice, random\n",
    "\n",
    "import numpy as np\n",
    "import pandas as pd\n",
    "import matplotlib.pyplot as plt\n",
    "\n",
    "from matplotlib.patches import Rectangle\n",
    "from matplotlib.colors import colorConverter, TABLEAU_COLORS\n",
    "# colorConverter.to_rgba('mediumseagreen', alpha=.5)\n",
    "\n",
    "%config InlineBackend.figure_format = 'retina'\n",
    "%matplotlib inline\n",
    "\n",
    "# from IPython.display import set_matplotlib_formats\n",
    "# set_matplotlib_formats('svg')\n",
    "\n",
    "plt.rcParams['figure.figsize'] = [12, 5]\n",
    "plt.rcParams['figure.dpi'] = 140\n",
    "plt.rcParams['agg.path.chunksize'] = 10000\n",
    "plt.rcParams['animation.html'] = 'jshtml'\n",
    "plt.rcParams['hatch.linewidth'] = 0.3"
   ]
  },
  {
   "cell_type": "markdown",
   "id": "d66b5932-d004-40c3-a3a1-9325ff1d1996",
   "metadata": {},
   "source": [
    "## Background & Motivation"
   ]
  },
  {
   "cell_type": "markdown",
   "id": "182be24f-6a9a-42c0-adfb-330fd3f89c31",
   "metadata": {},
   "source": [
    "At the moment, there does not exist an assay which reports directly on the occupancies of transcription factor binding sites across the genome in single cells. However, we can measure chromatin accessibility in single cells via [single-cell ATAC-seq](https://www.10xgenomics.com/products/single-cell-atac), which reports a 1-dimensional projection of TFBS occupancies. This blog post explores an approach to lift single cell ATAC signals onto the space of TFBS occupancies, i.e. to deconvolve ATAC signals into TF binding tracks. \n",
    "\n",
    "Our approach relies on an orthogonal suite of experiments characterizing transcription factor binding in vitro. In [High-Throughput SELEX](https://genome.cshlp.org/content/20/6/861.long) experiments, the..."
   ]
  },
  {
   "cell_type": "markdown",
   "id": "4bb3072c-08b3-49fb-9da6-60a5f880d353",
   "metadata": {},
   "source": [
    "## Equilibrium Binding Model\n",
    "\n",
    "There exist two mathematical formalisms to describe the probabilities of molecular configurations at equilibrium: thermodynamics and kinetics. The kinetics formalism is more general: it describes a system's trajectory to equilibrium, and can describe non-equilibrium systems. Tthe thermodynamics formalism only describes equilibrium, but requires fewer parameters to do so. We'll derive an expression for the probability of a single TFBS' occupancy with both formalisms, but drop the kinetic description for more elaborate configurations. "
   ]
  },
  {
   "cell_type": "markdown",
   "id": "73433b43-c056-4dcf-8ec0-d532cb2537f6",
   "metadata": {},
   "source": [
    "### Single TF"
   ]
  },
  {
   "cell_type": "markdown",
   "id": "7d44c1a0-f44f-4a9f-9605-bb1602f20232",
   "metadata": {
    "tags": []
   },
   "source": [
    "$$\\newcommand{\\kon}{k_{\\mathrm{on}}}\n",
    "\\newcommand{\\koff}{k_{\\mathrm{off}}}$$\n",
    "\n",
    "Most derivations of the probability of TFBS occupancy at equilibrium employ a kinetics formalism, so we'll walk through that first, and then explore the analog in the thermodynamics description. In the kinetic description, the parameters are **rates**. \n",
    "\n",
    "$$ \\mathrm{TF} + \\mathrm{TFBS} \\underset{\\koff}{\\overset{\\kon}{\\rightleftarrows}} \\mathrm{TF\\colon TFBS} $$\n",
    "\n",
    "> Note: We will assume the [Law of Mass Action](https://en.wikipedia.org/wiki/Law_of_mass_action) for well-mixed solutions throughout. \n",
    "\n",
    "\n",
    "The natural rates are the rate of TF binding $\\kon$ and unbinding $\\koff$. Equilibrium is reached when binding and unbinding are balanced:\n",
    "\n",
    "$$\\frac{d[\\mathrm{TF\\colon TFBS}]}{dt} = k_{\\mathrm{on}}[\\mathrm{TF}][\\mathrm{TFBS}] - k_{\\mathrm{off}}[\\mathrm{TF\\colon TFBS}] = 0 \\text{ at equilibrium}$$\n",
    "$$k_{\\mathrm{on}}[\\mathrm{TF}]_{\\mathrm{eq}}[\\mathrm{TFBS}]_{\\mathrm{eq}} = k_{\\mathrm{off}}[\\mathrm{TF\\colon TFBS}]_{\\mathrm{eq}}$$\n",
    "$$\\text{(dropping eq subscript) }[\\mathrm{TF\\colon TFBS}] = \\frac{k_{\\mathrm{on}}[\\mathrm{TF}][\\mathrm{TFBS}]}{k_{\\mathrm{off}}} = \\frac{[\\mathrm{TF}][\\mathrm{TFBS}]}{k_{d}}$$\n",
    "\n",
    "where $k_{d} = \\frac{\\koff}{\\kon}$ is called the [dissociation constant](https://en.wikipedia.org/wiki/Dissociation_constant) (or equilibrium constant). We'd like to determine the probability of finding the TFBS occupied, i.e. the fraction of time it spends in the bound state. That fraction is $\\frac{[\\mathrm{bound}]}{([\\mathrm{unbound}] + [\\mathrm{bound}])} = \\frac{[\\mathrm{TF\\colon TFBS}]}{([\\mathrm{TFBS}] + [\\mathrm{TF\\colon TFBS}])}$. Define the denominator as $[\\mathrm{TFBS}]_{0} = [\\mathrm{TFBS}] + [\\mathrm{TF\\colon TFBS}]$ so that $[\\mathrm{TFBS}] = [\\mathrm{TFBS}]_{0} - [\\mathrm{TF\\colon TFBS}]$ and substitute: \n",
    "\n",
    "$$[\\mathrm{TF\\colon TFBS}] = \\frac{[\\mathrm{TF}]([\\mathrm{TFBS}]_{0} - [\\mathrm{TF\\colon TFBS}])}{k_{d}}$$\n",
    "$$[\\mathrm{TF\\colon TFBS}](k_d + [\\mathrm{TF}]) = [\\mathrm{TF}][\\mathrm{TFBS}]_{0}$$\n",
    "$$\\frac{[\\mathrm{TF\\colon TFBS}]}{[\\mathrm{TFBS}]_{0}} = \\frac{[\\mathrm{TF}]}{k_d + [\\mathrm{TF}]}$$\n",
    "\n",
    "> Note: We could also ask for this expression in terms of $[\\mathrm{TF}]_0 = [\\mathrm{TF}] + [\\mathrm{TF\\colon TFBS}]$ however, since we're considering a single TFBS, $[\\mathrm{TF\\colon TFBS}]$ is at most 1, and so $[\\mathrm{TF}]_0 \\approx [\\mathrm{TF}]$. In instances of ligand-receptor binding in which that approximation cannot be made, the fraction bound is a messy quadratic. [Derivation here](https://www.med.upenn.edu/ostaplab/assets/user-content/documents/simpleligandbindingequations.pdf). \n",
    "\n",
    "\n",
    "In the thermodynamic description, the parameters are Gibbs free energies $\\Delta G$. Let's follow the derivation from [Physical Biology of the Cell](http://www.rpgroup.caltech.edu/pboc2/) (pp. 242) and consider the number microstates underlying each of the of bound and unbound macrostates, and their energies.\n",
    "\n",
    "In order to count microstates, we imagine distributing $L$ TF molecules across a space-filling lattice with $\\Omega$ sites. The energy of a TF in solution is $\\varepsilon_{\\mathrm{solution}}$ and the energy of a bound TF is $\\varepsilon_{\\mathrm{bound}}$. $\\beta$ is the constant $1/k_b T$ where $k_b$ is Boltzmann's constant and $T$ is the temperature. \n",
    "\n",
    "<img src=\"../data/equilibrium_TFs/single_TF_thermodynamic.png\" width=1000/>\n",
    "\n",
    "In our case, the number of microstates in the unbound macrostate is $\\frac{\\Omega !}{L!(\\Omega -L)!}\\approx \\frac{\\Omega^L}{L!}$ and they each have energy $L \\cdot \\varepsilon_s$. The number of microstates in the bound macrostate is $\\frac{\\Omega !}{(L-1)!(\\Omega -(L+1))}\\approx \\frac{\\Omega^{(L-1)}}{(L-1)!}$ and they each have energy $(L-1) \\varepsilon_s + \\varepsilon_b$.\n",
    "\n",
    "The [Boltzmann distribution](https://en.wikipedia.org/wiki/Boltzmann_distribution) describes the probability of a microstate as a function of its energy: $p(E_i) = e^{-\\beta E_i}/Z$ where $Z$ is the \"partition function\" or simply $\\sum_i e^{-\\beta E_i}$ the sum of the weights of the microstates, which normalizes the distribution. In our case:\n",
    "\n",
    "\n",
    "$$Z(L,\\Omega)=\\left(\\colorbox{LightCyan}{$ \\frac{\\Omega^L}{L!} e^{-\\beta L \\varepsilon_s}$}\\right) + \\left(\\colorbox{Seashell}{$\\frac{\\Omega^{(L-1)}}{(L-1)!} e^{-\\beta [(L-1) \\varepsilon_s + \\varepsilon_b]}$}\\right)$$\n",
    "\n",
    "With that expression in hand, we can express the probability of the bound macrostate, $p_b$:\n",
    "\n",
    "$$p_b=\\frac{ \\colorbox{Seashell}{$\\frac{\\Omega^{(L-1)}}{(L-1)!} e^{-\\beta [(L-1) \\varepsilon_s + \\varepsilon_b]}$}}{\\colorbox{LightCyan}{$\\frac{\\Omega^L}{L!} e^{-\\beta L \\varepsilon_s}$} + \\colorbox{Seashell}{$\\frac{\\Omega^{(L-1)}}{(L-1)!} e^{-\\beta [(L-1) \\varepsilon_s + \\varepsilon_b]}$}} \\cdot \\color{DarkRed}\\frac{\\frac{\\Omega^L}{L!}e^{\\beta L \\varepsilon_s}}{\\frac{\\Omega^L}{L!}e^{\\beta L \\varepsilon_s}} \\color{black} = \\frac{(L/\\Omega)e^{- \\beta \\Delta \\varepsilon}}{1+(L/\\Omega)e^{- \\beta \\Delta \\varepsilon}}  $$\n",
    "\n",
    "Where we have defined $\\Delta \\varepsilon = \\varepsilon_b - \\varepsilon_s$. $L/\\Omega$ is really just the concentration $[\\mathrm{TF}]$, which leaves us with an expression suspiciously similar to the one we derived from the kinetics formalism:\n",
    "\n",
    "$$p_b = \\frac{[\\mathrm{TF}]e^{-\\beta \\Delta \\varepsilon}}{1+[\\mathrm{TF}]e^{-\\beta \\Delta \\varepsilon}} \\cdot \\color{DarkRed}\\frac{e^{\\beta \\Delta \\varepsilon}}{e^{\\beta \\Delta \\varepsilon}} \\color{black} = \\frac{[\\mathrm{TF}]}{e^{\\beta \\Delta \\varepsilon}+[\\mathrm{TF}]}$$\n",
    "\n",
    "From which we recapitulate an important correspondence between kinetics and thermodynamics at equilibrium: $ k_d = e^{\\beta \\Delta \\varepsilon} = e^{\\Delta \\varepsilon / k_bT} $ more commonly written for different units as $k = e^{-\\Delta G / RT}$.\n",
    "\n",
    "The takeaway is that both the kinetic and thermodynamic formalisms produce an equivalent expression for the probabilities of each of the bound and unbound configurations, parameterized respectively by $k_d$ and $\\Delta G$."
   ]
  },
  {
   "cell_type": "markdown",
   "id": "1630ceb0-c3bf-440d-8939-2592cc153ba7",
   "metadata": {},
   "source": [
    "**References**: \n",
    "- [Physical Biology of the Cell](http://www.rpgroup.caltech.edu/pboc2/)\n",
    "- [Thermodynamics of Biological Processes](https://doi.org/10.1016/B978-0-12-381268-1.00014-8)\n",
    "- [Statistical Mechanics of Binding](http://www.bio-physics.at/wiki/index.php?title=Statistical_Mechanics_of_Binding)"
   ]
  },
  {
   "cell_type": "markdown",
   "id": "f7953526-4c6f-46fd-926f-74b4c10b8d75",
   "metadata": {},
   "source": [
    "### Direct Cooperativity"
   ]
  },
  {
   "cell_type": "markdown",
   "id": "469d4245-81d2-48b7-82cc-9942bb40efc9",
   "metadata": {},
   "source": [
    "Suppose now that two TFs bind adjacent segments of DNA in such a way that the binding of either facilitates the binding of the other. We call this direct cooperativity. \n",
    "\n",
    "As before, we enumerate the configurations, their multiplicities, and their energies. We'll call the TFs A and B. We'll denote their counts as $A$ and $B$. The energy of a TF in solution will once more be $A_s$ and bound to its cognate TFBS $A_b$. The energy of cooperativity will be $C_{AB}$.\n",
    "\n",
    "<table style=\"float:left; width:100%\">\n",
    "    <tr style=\"text-align:center; font-size:1.5rem; font-family:serif\"><td>State</td><td>Energy</td><td>Multiplicity</td><td>Weight</td></tr>\n",
    "    <tr><td><img src='../data/equilibrium_TFs/naked.png'  width=300/></td>\n",
    "        <td>$A \\cdot A_s + B \\cdot B_s$</td>\n",
    "        <td>$\\frac{\\Omega!}{(\\Omega - A - B)!A!B!} \\approx \\frac{\\Omega^{A+B}}{A!B!}$</td>\n",
    "        <td>$\\frac{\\Omega^{A+B}}{A!B!} \\cdot e^{-\\beta \\left[ A \\cdot A_s + B \\cdot B_s \\right]}$</td>\n",
    "    </tr>\n",
    "    <tr><td><img src='../data/equilibrium_TFs/A.png'  width=300/></td>\n",
    "        <td>$(A - 1) A_s + A_b + B \\cdot B_s$</td>\n",
    "        <td>$\\frac{\\Omega!}{(\\Omega - (A - 1) - B)!(A-1)!B!} \\approx \\frac{\\Omega^{A+B-1}}{(A-1)!B!}$</td>\n",
    "        <td>$\\frac{\\Omega^{A+B-1}}{(A-1)!B!} \\cdot e^{-\\beta \\left[ (A - 1) A_s + A_b + B \\cdot B_s \\right]}$</td>\n",
    "    </tr>\n",
    "    <tr><td><img src='../data/equilibrium_TFs/B.png'  width=300/></td>\n",
    "        <td>$A \\cdot A_s + (B - 1) B_s + B_b$</td>\n",
    "        <td>$\\frac{\\Omega!}{(\\Omega - A - (B - 1))!A!(B-1)!} \\approx \\frac{\\Omega^{A+B-1}}{A!(B-1)!}$</td>\n",
    "        <td>$\\frac{\\Omega^{A+B-1}}{A!(B-1)!} \\cdot e^{-\\beta \\left[ A \\cdot A_s + (B - 1) B_s + B_b \\right]}$</td>\n",
    "    </tr>\n",
    "    <tr><td><img src='../data/equilibrium_TFs/AB.png' width=300 /></td>\n",
    "        <td>$(A - 1) A_s + A_b + (B - 1) B_s + B_b + C_{AB}$</td>\n",
    "        <td>$\\frac{\\Omega!}{(\\Omega - (A - 1) - (B-1))!(A-1)!(B-1)!} \\approx \\frac{\\Omega^{A+B-2}}{(A-1)!(B-1)!}$</td>\n",
    "        <td>$\\frac{\\Omega^{A+B-2}}{(A-1)!(B-1)!} \\cdot e^{-\\beta \\left[ (A - 1) A_s + A_b + (B - 1) B_s + B_b + C_{AB} \\right]}$</td>\n",
    "    </tr>\n",
    "</table>\n",
    "\n",
    "The partition function is the sum of the weights:\n",
    "\n",
    "$$ Z = \\frac{\\Omega^{A+B}}{A!B!} \\cdot e^{-\\beta \\left[ A \\cdot A_s + B \\cdot B_s \\right]} +\n",
    "\\frac{\\Omega^{A+B-1}}{(A-1)!B!} \\cdot e^{-\\beta \\left[ (A - 1) A_s + A_b + B \\cdot B_s \\right]} +\n",
    "\\frac{\\Omega^{A+B-1}}{A!(B-1)!} \\cdot e^{-\\beta \\left[ A \\cdot A_s + (B - 1) B_s + B_b \\right]} +\n",
    "\\frac{\\Omega^{A+B-2}}{(A-1)!(B-1)!} \\cdot e^{-\\beta \\left[ (A - 1) A_s + A_b + (B - 1) B_s + B_b + C_{AB} \\right]}$$\n",
    "\n",
    "Which we can greatly simplify by multiplying the entire expression by the reciprocal of the \"base state\" weight, $\\color{DarkRed}\\frac{A!B!}{\\Omega^{A+B}} \\cdot e^{\\beta \\left[ A \\cdot A_s + B \\cdot B_s \\right]}$, normalizing that weight to 1:\n",
    "\n",
    "$$ Z = 1 +\n",
    "\\frac{A}{\\Omega} \\cdot e^{-\\beta \\left[ A_b-A_s \\right]} +\n",
    "\\frac{B}{\\Omega} \\cdot e^{-\\beta \\left[ B_b-B_s \\right]} +\n",
    "\\frac{A \\cdot B}{\\Omega^2} \\cdot e^{-\\beta \\left[ A_b-A_s+B_b-B_s+C_{AB} \\right]}$$\n",
    "\n",
    "Taking the definition $[A] = A/\\Omega$ and $\\Delta G_A = A_b-A_s$ produces: \n",
    "\n",
    "$$ Z = 1 +\n",
    "[A] e^{-\\beta \\left[ \\Delta G_A \\right]} +\n",
    "[B] e^{-\\beta \\left[ \\Delta G_B \\right]} +\n",
    "[A][B] e^{-\\beta \\left[ \\Delta G_A+\\Delta G_B+C_{AB} \\right]}$$\n",
    "\n",
    "Then the probability of any state is just the weight of that state divided by the partition function expression $Z$. "
   ]
  },
  {
   "cell_type": "markdown",
   "id": "7e0d0f7d-1dbe-4574-a538-c69c4d47e342",
   "metadata": {},
   "source": [
    "However, we notice a problem with extending this approach to realistic TF occupancy configurations: the number of configurations grows exponentially in the number of transcription factor binding sites ($2^{|\\mathrm{TFBS}|}$). Only 20 Transcription Factor Binding sites entails ~1 million configurations, and as many terms in the denominator of the probability expression. Computing probabilities of configurations exactly then becomes intractable for realistic scenarios; we need to estimate these probabilities by sampling. \n",
    "\n",
    "In the MCMC approach, we only need to evaluate numerators, i.e. the un-normalized probabilities of configurations. It's worth noting here that the computational effort involved is already substantial: the number of terms in the weight grows ~linearly with the number of TFBS, which could grow quite large. \n",
    "\n",
    "Our general formula for the un-normalized probability of a configuration, considering only cooperative interactions is:\n",
    "\n",
    "$$ p_{\\mathrm{config}} =  \\prod_{i \\in \\, \\mathrm{bound \\,TBFS}} \\left( [\\mathrm{TF}_{\\mathrm{cognate}(i)}] \\cdot e^{-\\beta \\left[ \\Delta G_i + \\sum_j c_{ij} \\right]}  \\right)$$\n",
    "\n",
    "$$ \\log(p_{\\mathrm{config}}) = \\sum_{i \\in \\, \\mathrm{bound \\,TBFS}} \\left( \\log([\\mathrm{TF}_{\\mathrm{cognate}(i)}]) - \\beta \\left[ \\Delta G_i + \\sum_j c_{ij} \\right]  \\right) $$\n"
   ]
  },
  {
   "cell_type": "code",
   "execution_count": 18,
   "id": "281eff05-eeec-48be-8d90-fcea880d27f4",
   "metadata": {},
   "outputs": [],
   "source": [
    "kb = 1.380649e-23\n",
    "T = 310  ## human temperature\n",
    "β = 1/(kb*T)\n",
    "\n",
    "# kbT = RT/N_A  ## N_A = Avogadro\n",
    "\n",
    "def log_P_config(config):\n",
    "\n",
    "    logP = 0\n",
    "\n",
    "    for occupied, (i, tfbs) in zip(config, TFBSs.iterrows()):\n",
    "        if occupied == 1:\n",
    "\n",
    "            logP += log(TF_conc[tfbs.TF]) - β*(tfbs.dG + cooperativities[i])\n",
    "\n",
    "    return logP"
   ]
  },
  {
   "cell_type": "markdown",
   "id": "fd200a4a-5540-4475-be32-16f4a52f14ee",
   "metadata": {},
   "source": [
    "Let's begin by considering a hypothetical piece of DNA with transcription factor binding sites for TFs, and associated affinities and cooperativities: "
   ]
  },
  {
   "cell_type": "code",
   "execution_count": 4,
   "id": "0425f7d3-95e8-4d19-a643-97ed8412b268",
   "metadata": {},
   "outputs": [],
   "source": [
    "num_TFs = 10; assert num_TFs <= 26\n",
    "num_TFBS = 20\n",
    "len_DNA = 200\n",
    "len_TFBS = 8  ## we'll say for simplicity sake that all TFBSs are 8bp long\n",
    "\n",
    "## TF names are just letters from the alphabet\n",
    "TFs = list(string.ascii_uppercase[:10])\n",
    "\n",
    "# TFBSs is a list of dataframe with columns 'TF_name', 'start', 'dG'\n",
    "TFBSs = [{'TF': choice(TFs), 'start': int(random()*(len_DNA-len_TFBS)), 'dG': 100+random()*100} for _ in range(num_TFBS)]\n",
    "TFBSs.sort(key=lambda tfbs: tfbs['start'])\n",
    "TFBSs = pd.DataFrame(TFBSs)"
   ]
  },
  {
   "cell_type": "code",
   "execution_count": 5,
   "id": "3d611db1-84b6-441a-85ed-48ce12caa018",
   "metadata": {},
   "outputs": [],
   "source": [
    "#collapse\n",
    "# plotting\n",
    "colors = list(TABLEAU_COLORS.values())\n",
    "\n",
    "def c(TF): return colors[string.ascii_uppercase.index(TF)]\n",
    "\n",
    "def draw_config(TFBSs, config=None):\n",
    "\n",
    "    if not config: config = [0]*len(TFBSs)\n",
    "\n",
    "    plt.rcParams['figure.figsize'] = [12, int(np.log2(len(TFs)))]\n",
    "\n",
    "    fig, ax = plt.subplots()\n",
    "\n",
    "    ax.scatter(TFBSs.start.values, TFBSs.TF.values, alpha=0)\n",
    "    ax.set(ylabel='TFs', yticks=range(len(TFs)), yticklabels=TFs, ylim=[-1, len(TFs)+1], xlabel='Genome', xlim=[0, len_DNA])\n",
    "\n",
    "    for i, tfbs in TFBSs.iterrows():\n",
    "        ax.add_patch(Rectangle((tfbs.start, TFs.index(tfbs.TF)), len_TFBS, 0.9, fc=c(tfbs.TF), alpha=0.05))\n",
    "        ax.add_patch(Rectangle((tfbs.start, TFs.index(tfbs.TF)), len_TFBS, 0.1, fc=c(tfbs.TF), alpha=1))\n",
    "\n",
    "    ax.grid(axis='y', lw=0.1)\n",
    "    for side in [\"right\",\"top\",\"left\",\"bottom\"]: ax.spines[side].set_visible(False)\n",
    "\n",
    "    return ax"
   ]
  },
  {
   "cell_type": "code",
   "execution_count": 6,
   "id": "6c3213a5-39a8-4f28-8491-211a1f49c864",
   "metadata": {},
   "outputs": [
    {
     "data": {
      "image/png": "[encoded data removed]",
      "text/plain": [
       "<Figure size 1680x420 with 1 Axes>"
      ]
     },
     "metadata": {
      "image/png": {
       "height": 404,
       "width": 1404
      },
      "needs_background": "light"
     },
     "output_type": "display_data"
    }
   ],
   "source": [
    "ax = draw_config(TFBSs)"
   ]
  },
  {
   "cell_type": "code",
   "execution_count": 7,
   "id": "21180aee-40cc-48b8-bccd-f4f7147be6fb",
   "metadata": {},
   "outputs": [],
   "source": [
    "# TF_concs = {'A': 100, 'B': 100}\n",
    "\n",
    "# # config is a list of [0, 1] floats, indexing into TFBSs. It's associated with a probability\n",
    "# config = [1., 1.]\n"
   ]
  },
  {
   "cell_type": "code",
   "execution_count": null,
   "id": "128422ad-1513-4c8e-87b1-eab39e4b9420",
   "metadata": {},
   "outputs": [],
   "source": []
  },
  {
   "cell_type": "code",
   "execution_count": 8,
   "id": "31043dd5-4e57-4c68-8f57-49bce214b912",
   "metadata": {},
   "outputs": [],
   "source": [
    "def exact_computation(config):\n",
    "\n",
    "    enumerate_configs(TFBSs)\n",
    "    Z(TFBSs, TF_concs)"
   ]
  },
  {
   "cell_type": "code",
   "execution_count": 7,
   "id": "30decd86-cfd4-4b02-86c6-ded4ec49913c",
   "metadata": {},
   "outputs": [],
   "source": [
    "# want a function which takes [TF] concentrations and TF binding sites and tells you the probability of each configuation\n",
    "\n",
    "def :\n",
    "    pass\n",
    "\n",
    "def :\n",
    "\n",
    "    return [P_config(config) for config in enumerate_configs(TFBSs)]\n",
    "\n",
    "\n",
    "\n",
    "def energy(TFBSs, TF_concs):\n",
    "    pass\n",
    "    # energy of binding of each occupied TFBS\n",
    "    # energy of cooperativity between each bound TFBS\n",
    "    # energy of competition between each bound TFBS\n",
    "    # energy of competition between each bound TFBS and the nucleosome\n",
    "    # energy of every unbound TF in solution\n",
    "\n",
    "\n",
    "def multiplicity(TFBSs, TF_concs):\n",
    "    pass\n",
    "\n",
    "\n"
   ]
  },
  {
   "cell_type": "code",
   "execution_count": 28,
   "id": "37f15498-5df8-4547-b310-291acf20025b",
   "metadata": {},
   "outputs": [],
   "source": []
  },
  {
   "cell_type": "markdown",
   "id": "6e5a238c-640a-482a-91c2-e3638f12ae38",
   "metadata": {},
   "source": [
    "**References**: \n",
    "- [Transcriptional regulation by the numbers: models](https://pubmed.ncbi.nlm.nih.gov/15797194/)"
   ]
  },
  {
   "cell_type": "markdown",
   "id": "f2516b6d-0a9e-4b2f-90c3-5ed35784a568",
   "metadata": {
    "tags": []
   },
   "source": [
    "### Competitive binding"
   ]
  },
  {
   "cell_type": "code",
   "execution_count": null,
   "id": "7ed40ba2-3a51-43a6-a7c9-03ec7937faf1",
   "metadata": {},
   "outputs": [],
   "source": []
  },
  {
   "cell_type": "markdown",
   "id": "15258ae0-d780-49af-a510-aedb9821aafb",
   "metadata": {},
   "source": [
    "### Indirect cooperativity"
   ]
  },
  {
   "cell_type": "code",
   "execution_count": null,
   "id": "e2867e43-882b-489f-9337-ae301cebd766",
   "metadata": {},
   "outputs": [],
   "source": []
  },
  {
   "cell_type": "markdown",
   "id": "503472f4-c2f3-451c-8131-b28908ea1af5",
   "metadata": {},
   "source": [
    "### Putting it all together"
   ]
  },
  {
   "cell_type": "code",
   "execution_count": null,
   "id": "86d710f4-4681-4716-8bd2-964d16a8ab04",
   "metadata": {},
   "outputs": [],
   "source": []
  },
  {
   "cell_type": "code",
   "execution_count": null,
   "id": "dc0ba9a9-4b34-43d7-9de6-700743cd00be",
   "metadata": {},
   "outputs": [],
   "source": []
  },
  {
   "cell_type": "code",
   "execution_count": null,
   "id": "d6969c94-aa1e-4f16-b0b2-09de73a18237",
   "metadata": {},
   "outputs": [],
   "source": []
  },
  {
   "cell_type": "code",
   "execution_count": null,
   "id": "f89563bb-5c2c-42e9-be2f-d90b29a000ea",
   "metadata": {},
   "outputs": [],
   "source": []
  },
  {
   "cell_type": "code",
   "execution_count": null,
   "id": "e2b66417-a460-41dc-a508-1291256778e2",
   "metadata": {},
   "outputs": [],
   "source": []
  },
  {
   "cell_type": "code",
   "execution_count": null,
   "id": "112b0206-fc73-42fe-a86c-8154917e6459",
   "metadata": {},
   "outputs": [],
   "source": []
  },
  {
   "cell_type": "code",
   "execution_count": null,
   "id": "2c459225-22b1-499c-870e-4c61c90888ac",
   "metadata": {},
   "outputs": [],
   "source": []
  },
  {
   "cell_type": "code",
   "execution_count": null,
   "id": "faab8d88-50cc-4eca-a454-9a9fd72b5ea8",
   "metadata": {},
   "outputs": [],
   "source": []
  },
  {
   "cell_type": "code",
   "execution_count": null,
   "id": "08c58efa-a392-4ef2-bc62-f65831db5d01",
   "metadata": {},
   "outputs": [],
   "source": []
  },
  {
   "cell_type": "code",
   "execution_count": null,
   "id": "044c2f12-dd4b-4d3d-b3c4-e51e3d55f19c",
   "metadata": {},
   "outputs": [],
   "source": []
  },
  {
   "cell_type": "code",
   "execution_count": null,
   "id": "632c6d07-be45-48ab-b8a3-f6d4b5c40cd8",
   "metadata": {},
   "outputs": [],
   "source": []
  },
  {
   "cell_type": "code",
   "execution_count": null,
   "id": "f1e36b6c-55bc-4f5b-8760-4d1ee8581ad8",
   "metadata": {},
   "outputs": [],
   "source": []
  },
  {
   "cell_type": "markdown",
   "id": "3f0a15d2-f045-408c-8862-3ef67028d158",
   "metadata": {},
   "source": [
    "## Conditioning on ATAC"
   ]
  },
  {
   "cell_type": "code",
   "execution_count": null,
   "id": "3772cc85-9f16-4ab9-82e6-0965c78e525c",
   "metadata": {},
   "outputs": [],
   "source": []
  },
  {
   "cell_type": "code",
   "execution_count": null,
   "id": "9f33f338-e908-4c86-a7a4-5b20abea606b",
   "metadata": {},
   "outputs": [],
   "source": []
  }
 ],
 "metadata": {
  "kernelspec": {
   "display_name": "Python 3",
   "language": "python",
   "name": "python3"
  },
  "language_info": {
   "codemirror_mode": {
    "name": "ipython",
    "version": 3
   },
   "file_extension": ".py",
   "mimetype": "text/x-python",
   "name": "python",
   "nbconvert_exporter": "python",
   "pygments_lexer": "ipython3",
   "version": "3.7.10"
  }
 },
 "nbformat": 4,
 "nbformat_minor": 5
}
